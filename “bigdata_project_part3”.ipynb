{
  "cells": [
    {
      "cell_type": "markdown",
      "source": [
        "<font size=\"5\">**Part 3: Prediction of Accident Severity**</font>\n",
        "\n",
        "<font size = \"4\">**Objectives:**</font>\n",
        "\n",
        "•\tDevelop sophisticated predictive models that can accurately forecast the severity of traffic accidents based on a multifaceted set of factors, including location, time of day, weather conditions, and types of vehicles involved. This initiative aims to leverage machine learning algorithms to anticipate the potential impact of accidents.\n",
        "\n",
        "•\tEmploy machine learning techniques to categorize crashes into distinct severity levels. This classification will aid emergency response teams in prioritizing incidents and optimizing resource deployment, ultimately enhancing the efficiency and effectiveness of emergency services.\n"
      ],
      "metadata": {
        "id": "-eW4XwGUzlXy"
      }
    },
    {
      "cell_type": "markdown",
      "source": [
        "<font size=\"5\">**Install and update the libraries**</font>"
      ],
      "metadata": {
        "id": "uufnozUj1X-4"
      }
    },
    {
      "cell_type": "code",
      "execution_count": 1,
      "metadata": {
        "colab": {
          "base_uri": "https://localhost:8080/"
        },
        "id": "i94S1rDy4mZY",
        "outputId": "02f7eca4-f29a-4424-df35-d08950f2f705"
      },
      "outputs": [
        {
          "output_type": "stream",
          "name": "stdout",
          "text": [
            "Requirement already satisfied: seaborn in /usr/local/lib/python3.10/dist-packages (0.13.2)\n",
            "Requirement already satisfied: numpy!=1.24.0,>=1.20 in /usr/local/lib/python3.10/dist-packages (from seaborn) (1.25.2)\n",
            "Requirement already satisfied: pandas>=1.2 in /usr/local/lib/python3.10/dist-packages (from seaborn) (2.0.3)\n",
            "Requirement already satisfied: matplotlib!=3.6.1,>=3.4 in /usr/local/lib/python3.10/dist-packages (from seaborn) (3.7.1)\n",
            "Requirement already satisfied: contourpy>=1.0.1 in /usr/local/lib/python3.10/dist-packages (from matplotlib!=3.6.1,>=3.4->seaborn) (1.2.1)\n",
            "Requirement already satisfied: cycler>=0.10 in /usr/local/lib/python3.10/dist-packages (from matplotlib!=3.6.1,>=3.4->seaborn) (0.12.1)\n",
            "Requirement already satisfied: fonttools>=4.22.0 in /usr/local/lib/python3.10/dist-packages (from matplotlib!=3.6.1,>=3.4->seaborn) (4.51.0)\n",
            "Requirement already satisfied: kiwisolver>=1.0.1 in /usr/local/lib/python3.10/dist-packages (from matplotlib!=3.6.1,>=3.4->seaborn) (1.4.5)\n",
            "Requirement already satisfied: packaging>=20.0 in /usr/local/lib/python3.10/dist-packages (from matplotlib!=3.6.1,>=3.4->seaborn) (24.0)\n",
            "Requirement already satisfied: pillow>=6.2.0 in /usr/local/lib/python3.10/dist-packages (from matplotlib!=3.6.1,>=3.4->seaborn) (9.4.0)\n",
            "Requirement already satisfied: pyparsing>=2.3.1 in /usr/local/lib/python3.10/dist-packages (from matplotlib!=3.6.1,>=3.4->seaborn) (3.1.2)\n",
            "Requirement already satisfied: python-dateutil>=2.7 in /usr/local/lib/python3.10/dist-packages (from matplotlib!=3.6.1,>=3.4->seaborn) (2.8.2)\n",
            "Requirement already satisfied: pytz>=2020.1 in /usr/local/lib/python3.10/dist-packages (from pandas>=1.2->seaborn) (2023.4)\n",
            "Requirement already satisfied: tzdata>=2022.1 in /usr/local/lib/python3.10/dist-packages (from pandas>=1.2->seaborn) (2024.1)\n",
            "Requirement already satisfied: six>=1.5 in /usr/local/lib/python3.10/dist-packages (from python-dateutil>=2.7->matplotlib!=3.6.1,>=3.4->seaborn) (1.16.0)\n"
          ]
        }
      ],
      "source": [
        "# Install Java\n",
        "!apt-get install openjdk-11-jdk-headless -qq > /dev/null\n",
        "\n",
        "# Download Spark\n",
        "!wget -q https://dlcdn.apache.org/spark/spark-3.5.1/spark-3.5.1-bin-hadoop3.tgz\n",
        "\n",
        "# Unzip the Spark archive\n",
        "!tar xf spark-3.5.1-bin-hadoop3.tgz\n",
        "\n",
        "# Install findspark - a library that makes it easier to locate Spark\n",
        "!pip install -q findspark\n",
        "\n",
        "!pip install --upgrade seaborn"
      ]
    },
    {
      "cell_type": "markdown",
      "source": [
        "<font size=\"5\">**Mount the google drive for data loading**</font>"
      ],
      "metadata": {
        "id": "pzbCkTj511Y5"
      }
    },
    {
      "cell_type": "code",
      "execution_count": 2,
      "metadata": {
        "colab": {
          "base_uri": "https://localhost:8080/"
        },
        "id": "gwfMHftp41Jy",
        "outputId": "da8a5245-aa94-4412-9451-b417cd4ab6c0"
      },
      "outputs": [
        {
          "output_type": "stream",
          "name": "stdout",
          "text": [
            "Drive already mounted at /content/drive; to attempt to forcibly remount, call drive.mount(\"/content/drive\", force_remount=True).\n"
          ]
        }
      ],
      "source": [
        "from google.colab import drive\n",
        "import os\n",
        "import findspark\n",
        "\n",
        "drive.mount('/content/drive')\n",
        "\n",
        "# Set Java and Spark home based on the installation paths\n",
        "os.environ[\"JAVA_HOME\"] = \"/usr/lib/jvm/java-11-openjdk-amd64\"\n",
        "os.environ[\"SPARK_HOME\"] = \"/content/spark-3.5.1-bin-hadoop3\"\n"
      ]
    },
    {
      "cell_type": "markdown",
      "source": [
        "<font size=\"5\">**Start the SparkSession and load the data into it**</font>"
      ],
      "metadata": {
        "id": "oLFCw0xz2BaX"
      }
    },
    {
      "cell_type": "code",
      "execution_count": 3,
      "metadata": {
        "colab": {
          "base_uri": "https://localhost:8080/"
        },
        "id": "oF8bPDJi5Ty5",
        "outputId": "7fb297e3-9353-4c2d-8b14-2600fb722dbe"
      },
      "outputs": [
        {
          "output_type": "stream",
          "name": "stdout",
          "text": [
            "root\n",
            " |-- CRASH DATE: string (nullable = true)\n",
            " |-- CRASH TIME: string (nullable = true)\n",
            " |-- BOROUGH: string (nullable = true)\n",
            " |-- ZIP CODE: string (nullable = true)\n",
            " |-- LATITUDE: double (nullable = true)\n",
            " |-- LONGITUDE: double (nullable = true)\n",
            " |-- LOCATION: string (nullable = true)\n",
            " |-- ON STREET NAME: string (nullable = true)\n",
            " |-- CROSS STREET NAME: string (nullable = true)\n",
            " |-- OFF STREET NAME: string (nullable = true)\n",
            " |-- NUMBER OF PERSONS INJURED: string (nullable = true)\n",
            " |-- NUMBER OF PERSONS KILLED: integer (nullable = true)\n",
            " |-- NUMBER OF PEDESTRIANS INJURED: integer (nullable = true)\n",
            " |-- NUMBER OF PEDESTRIANS KILLED: integer (nullable = true)\n",
            " |-- NUMBER OF CYCLIST INJURED: integer (nullable = true)\n",
            " |-- NUMBER OF CYCLIST KILLED: string (nullable = true)\n",
            " |-- NUMBER OF MOTORIST INJURED: string (nullable = true)\n",
            " |-- NUMBER OF MOTORIST KILLED: integer (nullable = true)\n",
            " |-- CONTRIBUTING FACTOR VEHICLE 1: string (nullable = true)\n",
            " |-- CONTRIBUTING FACTOR VEHICLE 2: string (nullable = true)\n",
            " |-- CONTRIBUTING FACTOR VEHICLE 3: string (nullable = true)\n",
            " |-- CONTRIBUTING FACTOR VEHICLE 4: string (nullable = true)\n",
            " |-- CONTRIBUTING FACTOR VEHICLE 5: string (nullable = true)\n",
            " |-- COLLISION_ID: integer (nullable = true)\n",
            " |-- VEHICLE TYPE CODE 1: string (nullable = true)\n",
            " |-- VEHICLE TYPE CODE 2: string (nullable = true)\n",
            " |-- VEHICLE TYPE CODE 3: string (nullable = true)\n",
            " |-- VEHICLE TYPE CODE 4: string (nullable = true)\n",
            " |-- VEHICLE TYPE CODE 5: string (nullable = true)\n",
            "\n"
          ]
        }
      ],
      "source": [
        "import findspark\n",
        "findspark.init()\n",
        "\n",
        "from pyspark.sql import SparkSession\n",
        "\n",
        "# Now you can create a SparkSession without the FileNotFoundError\n",
        "spark = SparkSession.builder \\\n",
        "    .appName(\"NYC Motor Vehicle Collisions Analysis\") \\\n",
        "    .config(\"spark.sql.legacy.timeParserPolicy\", \"LEGACY\") \\\n",
        "    .master(\"local[*]\") \\\n",
        "    .getOrCreate()\n",
        "data_path = \"/content/drive/MyDrive/Motor_Vehicle_Collisions_-_Crashes.csv\"\n",
        "df = spark.read.csv(data_path, header=True, inferSchema=True)\n",
        "df.printSchema()"
      ]
    },
    {
      "cell_type": "markdown",
      "source": [
        "<font size=\"5\">**Standardize the features**</font>"
      ],
      "metadata": {
        "id": "izSVmM_t4jV3"
      }
    },
    {
      "cell_type": "code",
      "execution_count": 4,
      "metadata": {
        "id": "oPdAnHqX58be"
      },
      "outputs": [],
      "source": [
        "from pyspark.sql.functions import col, count, when\n",
        "\n",
        "# Standardize the vehicle type\n",
        "replacement_dict = {\n",
        "    \"SPORT UTILITY / STATION WAGON\": \"Station Wagon/Sport Utility Vehicle\",\n",
        "    \"PICK-UP TRUCK\": \"Pick-up Truck\",\n",
        "    \"TAXI\": \"Taxi\",\n",
        "    \"4 dr sedan\": \"Sedan\"\n",
        "}\n",
        "\n",
        "for original_value, new_value in replacement_dict.items():\n",
        "    df = df.withColumn(\"VEHICLE TYPE CODE 1\",\n",
        "                       when(col(\"VEHICLE TYPE CODE 1\") == original_value, new_value)\n",
        "                       .otherwise(col(\"VEHICLE TYPE CODE 1\")))\n",
        "    df = df.withColumn(\"VEHICLE TYPE CODE 2\",\n",
        "                       when(col(\"VEHICLE TYPE CODE 2\") == original_value, new_value)\n",
        "                       .otherwise(col(\"VEHICLE TYPE CODE 2\")))"
      ]
    },
    {
      "cell_type": "code",
      "execution_count": 5,
      "metadata": {
        "id": "_-cgRhWL6SRQ"
      },
      "outputs": [],
      "source": [
        "from pyspark.sql.functions import to_timestamp, concat, lit, col, year, month, hour, date_format\n",
        "\n",
        "\n",
        "# \"CRASH DATE\" is in the format \"MM/dd/yyyy\" and \"CRASH TIME\" is in \"HH:mm\"\n",
        "# Concatenate date and time into a single column with a space separator\n",
        "df = df.withColumn(\"CRASH DATE TIME\", to_timestamp(concat(col(\"CRASH DATE\"), lit(\" \"), col(\"CRASH TIME\")), 'MM/dd/yyyy HH:mm'))\n",
        "\n",
        "# Now proceed to extract components as previously shown\n",
        "df = df.withColumn(\"CRASH YEAR\", year(\"CRASH DATE TIME\"))\n",
        "df = df.withColumn(\"CRASH MONTH\", month(\"CRASH DATE TIME\"))\n",
        "df = df.withColumn(\"CRASH MONTH NAME\", date_format(\"CRASH DATE TIME\", 'MMM'))\n",
        "df = df.withColumn(\"CRASH HOUR\", hour(\"CRASH DATE TIME\"))\n",
        "df = df.withColumn(\"CRASH WEEK\", date_format(\"CRASH DATE TIME\", 'E'))\n",
        "\n",
        "# Show the results to verify\n",
        "# df.select(\"CRASH DATE TIME\", \"CRASH YEAR\", \"CRASH MONTH\", \"CRASH HOUR\", \"CRASH WEEK\").show(5)\n"
      ]
    },
    {
      "cell_type": "code",
      "execution_count": 6,
      "metadata": {
        "id": "Gaw1XncZ6b2z"
      },
      "outputs": [],
      "source": [
        "# # Assuming your Spark session is already created and DataFrame is loaded as `df`\n",
        "# df = df.withColumn(\n",
        "#     \"CRASH SEASON\",\n",
        "#     when((col(\"CRASH MONTH\") >= 3) & (col(\"CRASH MONTH\") <= 5), \"Spring\")\n",
        "#     .when((col(\"CRASH MONTH\") >= 6) & (col(\"CRASH MONTH\") <= 8), \"Summer\")\n",
        "#     .when((col(\"CRASH MONTH\") >= 9) & (col(\"CRASH MONTH\") <= 11), \"Autumn\")\n",
        "#     .otherwise(\"Winter\")\n",
        "# )\n",
        "\n",
        "# df.select(\"CRASH MONTH\", \"CRASH SEASON\").show()"
      ]
    },
    {
      "cell_type": "code",
      "execution_count": 7,
      "metadata": {
        "id": "sZcR2Mc_6h7b"
      },
      "outputs": [],
      "source": [
        "# # Proceed hour into daytime for later onehot-encoding\n",
        "# df = df.withColumn(\n",
        "#     \"CRASH DAYTIME\",\n",
        "#     when((col(\"CRASH HOUR\") >= 6) & (col(\"CRASH HOUR\") < 13), \"Morning\")\n",
        "#     .when((col(\"CRASH HOUR\") >= 13) & (col(\"CRASH HOUR\") < 19), \"Afternoon\")\n",
        "#     .when((col(\"CRASH HOUR\") >= 19) & (col(\"CRASH HOUR\") <= 23), \"Evening\")\n",
        "#     .otherwise(\"Early Morning\")\n",
        "# )\n",
        "\n",
        "# df.select(\"CRASH HOUR\", \"CRASH DAYTIME\").show()"
      ]
    },
    {
      "cell_type": "code",
      "execution_count": 8,
      "metadata": {
        "colab": {
          "base_uri": "https://localhost:8080/"
        },
        "id": "qLI6cufo8Gd1",
        "outputId": "04de6c9f-21fb-4f53-f008-d325652a905f"
      },
      "outputs": [
        {
          "output_type": "stream",
          "name": "stdout",
          "text": [
            "root\n",
            " |-- CRASH HOUR: integer (nullable = true)\n",
            " |-- CRASH WEEK: string (nullable = true)\n",
            " |-- CRASH MONTH: integer (nullable = true)\n",
            " |-- LATITUDE: double (nullable = true)\n",
            " |-- LONGITUDE: double (nullable = true)\n",
            " |-- NUMBER OF PERSONS INJURED: string (nullable = true)\n",
            " |-- NUMBER OF PERSONS KILLED: integer (nullable = true)\n",
            " |-- CONTRIBUTING FACTOR VEHICLE 1: string (nullable = true)\n",
            " |-- CONTRIBUTING FACTOR VEHICLE 2: string (nullable = true)\n",
            " |-- VEHICLE TYPE CODE 1: string (nullable = true)\n",
            " |-- VEHICLE TYPE CODE 2: string (nullable = true)\n",
            "\n"
          ]
        }
      ],
      "source": [
        "retain = [\"CRASH HOUR\", \"CRASH WEEK\", \"CRASH MONTH\",\"LATITUDE\", \"LONGITUDE\", \"NUMBER OF PERSONS INJURED\", \"NUMBER OF PERSONS KILLED\",\n",
        "          \"CONTRIBUTING FACTOR VEHICLE 1\", \"CONTRIBUTING FACTOR VEHICLE 2\",\n",
        "          \"VEHICLE TYPE CODE 1\", \"VEHICLE TYPE CODE 2\"]\n",
        "\n",
        "# choose data\n",
        "nyc_traffic_collisions_analysis = df.select(*retain)\n",
        "\n",
        "# delete depulicates\n",
        "nyc_traffic_collisions_analysis = nyc_traffic_collisions_analysis.dropDuplicates()\n",
        "\n",
        "\n",
        "nyc_traffic_collisions_analysis.printSchema()\n",
        "# nyc_traffic_collisions_analysis.describe().show()\n",
        "# print(\"Total rows:\", nyc_traffic_collisions_analysis.count())"
      ]
    },
    {
      "cell_type": "code",
      "execution_count": 9,
      "metadata": {
        "id": "uh0hh6UmDFYG"
      },
      "outputs": [],
      "source": [
        "# nyc_traffic_collisions_analysis.select(\"VEHICLE TYPE CODE 1\").distinct().count()"
      ]
    },
    {
      "cell_type": "code",
      "execution_count": 10,
      "metadata": {
        "id": "4Xx72JU7TuRZ"
      },
      "outputs": [],
      "source": [
        "# nyc_traffic_collisions_analysis.select(\"VEHICLE TYPE CODE 2\").distinct().count()"
      ]
    },
    {
      "cell_type": "code",
      "execution_count": 11,
      "metadata": {
        "id": "EeHyMP8aTzRx"
      },
      "outputs": [],
      "source": [
        "# nyc_traffic_collisions_analysis.select(\"CONTRIBUTING FACTOR VEHICLE 1\").distinct().count()"
      ]
    },
    {
      "cell_type": "code",
      "execution_count": 12,
      "metadata": {
        "id": "iUMeDuvPafF6"
      },
      "outputs": [],
      "source": [
        "# nyc_traffic_collisions_analysis.select(\"CONTRIBUTING FACTOR VEHICLE 2\").distinct().count()"
      ]
    },
    {
      "cell_type": "code",
      "execution_count": 13,
      "metadata": {
        "id": "r3OsaD8oUbP2",
        "colab": {
          "base_uri": "https://localhost:8080/"
        },
        "outputId": "071dc257-002a-42e9-8db8-15a814c3b212"
      },
      "outputs": [
        {
          "output_type": "stream",
          "name": "stdout",
          "text": [
            "+-------------------------+------------------------+--------------+\n",
            "|NUMBER OF PERSONS INJURED|NUMBER OF PERSONS KILLED|      SEVERITY|\n",
            "+-------------------------+------------------------+--------------+\n",
            "|                        0|                       0|No People Loss|\n",
            "|                        0|                       0|No People Loss|\n",
            "|                        0|                       0|No People Loss|\n",
            "|                        1|                       0|Light Severity|\n",
            "|                        0|                       0|No People Loss|\n",
            "|                        1|                       0|Light Severity|\n",
            "|                        1|                       0|Light Severity|\n",
            "|                        0|                       0|No People Loss|\n",
            "|                        0|                       0|No People Loss|\n",
            "|                        1|                       0|Light Severity|\n",
            "|                        0|                       0|No People Loss|\n",
            "|                        0|                       0|No People Loss|\n",
            "|                        0|                       0|No People Loss|\n",
            "|                        0|                       0|No People Loss|\n",
            "|                        1|                       0|Light Severity|\n",
            "|                        0|                       0|No People Loss|\n",
            "|                        1|                       0|Light Severity|\n",
            "|                        0|                       0|No People Loss|\n",
            "|                        0|                       0|No People Loss|\n",
            "|                        0|                       0|No People Loss|\n",
            "+-------------------------+------------------------+--------------+\n",
            "only showing top 20 rows\n",
            "\n"
          ]
        }
      ],
      "source": [
        "# Create one more column for evaluating the severity\n",
        "from pyspark.sql.types import IntegerType\n",
        "nyc_traffic_collisions_analysis = nyc_traffic_collisions_analysis.withColumn(\"NUMBER OF PERSONS INJURED\", col(\"NUMBER OF PERSONS INJURED\").cast(IntegerType()))\n",
        "nyc_traffic_collisions_analysis = nyc_traffic_collisions_analysis.withColumn(\n",
        "    \"SEVERITY\",\n",
        "    # if no people injured or killed\n",
        "    when((col(\"NUMBER OF PERSONS INJURED\") == 0) & (col(\"NUMBER OF PERSONS KILLED\") == 0), \"No People Loss\")\n",
        "\n",
        "    # if no people die and only small amount of injured\n",
        "    .when((((col(\"NUMBER OF PERSONS INJURED\") > 0) & (col(\"NUMBER OF PERSONS INJURED\") < 5)) & (col(\"NUMBER OF PERSONS KILLED\") == 0)), \"Light Severity\")\n",
        "\n",
        "    # if people killed or injured amount larger than 5\n",
        "    .when((((10 > col(\"NUMBER OF PERSONS INJURED\")) & (col(\"NUMBER OF PERSONS INJURED\") > 5)) & ((col(\"NUMBER OF PERSONS KILLED\") < 5) & (col(\"NUMBER OF PERSONS KILLED\") >= 0))) | \\\n",
        "     ((col(\"NUMBER OF PERSONS KILLED\") < 5) & (col(\"NUMBER OF PERSONS KILLED\") >= 0)), \"Medium Severity\")\n",
        "\n",
        "    .otherwise(\"Heavy Severity\")\n",
        ")\n",
        "\n",
        "nyc_traffic_collisions_analysis.select(\"NUMBER OF PERSONS INJURED\", \"NUMBER OF PERSONS KILLED\", \"SEVERITY\").show(20)"
      ]
    },
    {
      "cell_type": "code",
      "execution_count": 14,
      "metadata": {
        "id": "dxnQkd_eeKJE"
      },
      "outputs": [],
      "source": [
        "# nyc_traffic_collisions_analysis.show()"
      ]
    },
    {
      "cell_type": "markdown",
      "source": [
        "<font size=\"5\">**Process the data with NA values**</font>\n",
        "\n",
        "* In this part, we need to decide whether the data should be drop or not as some of them just have only one factor, therefore use \"unspecified\" will be better than just drop them.\n",
        "* In contrast, if both two contributing factors and vehicle codes are null(unspecified), drop it."
      ],
      "metadata": {
        "id": "l8er_mOG5FK2"
      }
    },
    {
      "cell_type": "code",
      "execution_count": 15,
      "metadata": {
        "colab": {
          "base_uri": "https://localhost:8080/"
        },
        "id": "2crTw-m-cIk4",
        "outputId": "24d43dcc-a414-4237-f8db-f17fb5e788d1"
      },
      "outputs": [
        {
          "output_type": "execute_result",
          "data": {
            "text/plain": [
              "1843127"
            ]
          },
          "metadata": {},
          "execution_count": 15
        }
      ],
      "source": [
        "# Proceed with NA value\n",
        "\n",
        "# These are accidents that no any info for vehicle, dropped later\n",
        "nyc_traffic_collisions_analysis_NA = nyc_traffic_collisions_analysis.filter((nyc_traffic_collisions_analysis[\"CONTRIBUTING FACTOR VEHICLE 1\"].isNull() == True) \\\n",
        "                                                                         & (nyc_traffic_collisions_analysis[\"CONTRIBUTING FACTOR VEHICLE 2\"].isNull()==True) \\\n",
        "                                                                         & (nyc_traffic_collisions_analysis[\"VEHICLE TYPE CODE 1\"].isNull()==True) & \\\n",
        "                                                                         (nyc_traffic_collisions_analysis[\"VEHICLE TYPE CODE 2\"].isNull()==True))\n",
        "nyc_traffic_collisions_analysis_NA.count()\n",
        "nyc_traffic_collisions_analysis_NAProcessed = nyc_traffic_collisions_analysis.subtract(nyc_traffic_collisions_analysis_NA)\n",
        "nyc_traffic_collisions_analysis_NAProcessed = nyc_traffic_collisions_analysis_NAProcessed.dropna(subset=['LATITUDE','LONGITUDE'])\n",
        "nyc_traffic_collisions_analysis_NAProcessed.count()"
      ]
    },
    {
      "cell_type": "code",
      "execution_count": 16,
      "metadata": {
        "id": "IUuMMhwTh7Yu"
      },
      "outputs": [],
      "source": [
        "# filled NA value for Unspecified\n",
        "nyc_traffic_collisions_analysis_NAProcessed_2 = nyc_traffic_collisions_analysis_NAProcessed.fillna({\"CONTRIBUTING FACTOR VEHICLE 1\": \"Unspecified\",\\\n",
        "                        \"CONTRIBUTING FACTOR VEHICLE 2\": \"Unspecified\",\n",
        "                        \"VEHICLE TYPE CODE 1\": \"Unspecified\",\n",
        "                        \"VEHICLE TYPE CODE 2\": \"Unspecified\"})"
      ]
    },
    {
      "cell_type": "code",
      "source": [
        "nyc_traffic_collisions_analysis_NAProcessed_2 = nyc_traffic_collisions_analysis_NAProcessed_2.filter((nyc_traffic_collisions_analysis_NAProcessed_2[\"CONTRIBUTING FACTOR VEHICLE 1\"] != \"Unspecified\") \\\n",
        "                                                                         & (nyc_traffic_collisions_analysis_NAProcessed_2[\"CONTRIBUTING FACTOR VEHICLE 2\"] != \"Unspecified\") \\\n",
        "                                                                         & (nyc_traffic_collisions_analysis_NAProcessed_2[\"VEHICLE TYPE CODE 1\"] != \"Unspecified\") & \\\n",
        "                                                                         (nyc_traffic_collisions_analysis_NAProcessed_2[\"VEHICLE TYPE CODE 2\"] != \"Unspecified\"))"
      ],
      "metadata": {
        "id": "R0uQgLlBH2_U"
      },
      "execution_count": 17,
      "outputs": []
    },
    {
      "cell_type": "markdown",
      "source": [
        "<font size=\"5\">**Assemble the onehot-encoder**</font>\n",
        "* In this part, we need to convert string attributes into the string index, and then use the onehotencoder to assemble them for later learning."
      ],
      "metadata": {
        "id": "RfdAeWSzNZ_X"
      }
    },
    {
      "cell_type": "code",
      "execution_count": 18,
      "metadata": {
        "id": "ylL6lrg7acyT",
        "colab": {
          "base_uri": "https://localhost:8080/"
        },
        "outputId": "6feb7197-5c49-4d3e-9aa4-a70e80997c89"
      },
      "outputs": [
        {
          "output_type": "stream",
          "name": "stdout",
          "text": [
            "+-----------+---------+---------+-------------------------+------------------------+--------------+----------------+-----------------+----------------+-----------------+-----------------+------------------+-----------------------------------+------------------------------------+-----------------------------------+------------------------------------+-------------------------+--------------------------+-------------------------+--------------------------+--------------+---------------+\n",
            "|CRASH MONTH| LATITUDE|LONGITUDE|NUMBER OF PERSONS INJURED|NUMBER OF PERSONS KILLED|      SEVERITY|CRASH HOUR INDEX|CRASH HOUR VECTOR|CRASH WEEK INDEX|CRASH WEEK VECTOR|CRASH MONTH INDEX|CRASH MONTH VECTOR|CONTRIBUTING FACTOR VEHICLE 1 INDEX|CONTRIBUTING FACTOR VEHICLE 1 VECTOR|CONTRIBUTING FACTOR VEHICLE 2 INDEX|CONTRIBUTING FACTOR VEHICLE 2 VECTOR|VEHICLE TYPE CODE 1 INDEX|VEHICLE TYPE CODE 1 VECTOR|VEHICLE TYPE CODE 2 INDEX|VEHICLE TYPE CODE 2 VECTOR|SEVERITY INDEX|SEVERITY VECTOR|\n",
            "+-----------+---------+---------+-------------------------+------------------------+--------------+----------------+-----------------+----------------+-----------------+-----------------+------------------+-----------------------------------+------------------------------------+-----------------------------------+------------------------------------+-------------------------+--------------------------+-------------------------+--------------------------+--------------+---------------+\n",
            "|          8|40.761234|-73.96389|                        0|                       0|No People Loss|             4.0|   (23,[4],[1.0])|             0.0|    (6,[0],[1.0])|              2.0|    (11,[2],[1.0])|                               15.0|                     (59,[15],[1.0])|                               16.0|                     (59,[16],[1.0])|                      0.0|           (393,[0],[1.0])|                      1.0|           (562,[1],[1.0])|           0.0|  (3,[0],[1.0])|\n",
            "|          8| 40.76172|-73.98281|                        0|                       0|No People Loss|             2.0|   (23,[2],[1.0])|             1.0|    (6,[1],[1.0])|              2.0|    (11,[2],[1.0])|                                0.0|                      (59,[0],[1.0])|                                0.0|                      (59,[0],[1.0])|                      3.0|           (393,[3],[1.0])|                      0.0|           (562,[0],[1.0])|           0.0|  (3,[0],[1.0])|\n",
            "|         11|40.702362|-73.81845|                        0|                       0|No People Loss|             1.0|   (23,[1],[1.0])|             2.0|    (6,[2],[1.0])|              4.0|    (11,[4],[1.0])|                                0.0|                      (59,[0],[1.0])|                                3.0|                      (59,[3],[1.0])|                      3.0|           (393,[3],[1.0])|                      6.0|           (562,[6],[1.0])|           0.0|  (3,[0],[1.0])|\n",
            "+-----------+---------+---------+-------------------------+------------------------+--------------+----------------+-----------------+----------------+-----------------+-----------------+------------------+-----------------------------------+------------------------------------+-----------------------------------+------------------------------------+-------------------------+--------------------------+-------------------------+--------------------------+--------------+---------------+\n",
            "only showing top 3 rows\n",
            "\n"
          ]
        }
      ],
      "source": [
        "from pyspark.ml.feature import OneHotEncoder, StringIndexer\n",
        "# We need to use one hot to get the season, weekday, daytime, vehicle, and severity\n",
        "# For efficiency, drop the origin one after converted one\n",
        "\n",
        "# CRASH DAYTIME\n",
        "crash_hour_indexer = StringIndexer(inputCol = \"CRASH HOUR\", outputCol = \"CRASH HOUR INDEX\").fit(nyc_traffic_collisions_analysis_NAProcessed_2)\n",
        "nyc_traffic_collisions_analysis_NAProcessed_2 = crash_hour_indexer.transform(nyc_traffic_collisions_analysis_NAProcessed_2)\n",
        "crash_hour_encoder = OneHotEncoder(inputCol = \"CRASH HOUR INDEX\", outputCol = \"CRASH HOUR VECTOR\")\n",
        "ohe = crash_hour_encoder.fit(nyc_traffic_collisions_analysis_NAProcessed_2)\n",
        "nyc_traffic_collisions_analysis_NAProcessed_2 = ohe.transform(nyc_traffic_collisions_analysis_NAProcessed_2)\n",
        "nyc_traffic_collisions_analysis_NAProcessed_2 = nyc_traffic_collisions_analysis_NAProcessed_2.drop(\"CRASH HOUR\")\n",
        "\n",
        "# CRASH WEEK\n",
        "crash_week_indexer = StringIndexer(inputCol = \"CRASH WEEK\", outputCol = \"CRASH WEEK INDEX\").fit(nyc_traffic_collisions_analysis_NAProcessed_2)\n",
        "nyc_traffic_collisions_analysis_NAProcessed_2 = crash_week_indexer.transform(nyc_traffic_collisions_analysis_NAProcessed_2)\n",
        "crash_week_encoder = OneHotEncoder(inputCol = \"CRASH WEEK INDEX\", outputCol = \"CRASH WEEK VECTOR\")\n",
        "ohe = crash_week_encoder.fit(nyc_traffic_collisions_analysis_NAProcessed_2)\n",
        "nyc_traffic_collisions_analysis_NAProcessed_2 = ohe.transform(nyc_traffic_collisions_analysis_NAProcessed_2)\n",
        "nyc_traffic_collisions_analysis_NAProcessed_2 = nyc_traffic_collisions_analysis_NAProcessed_2.drop(\"CRASH WEEK\")\n",
        "\n",
        "# CRASH SEASON\n",
        "crash_month_indexer = StringIndexer(inputCol = \"CRASH MONTH\", outputCol = \"CRASH MONTH INDEX\").fit(nyc_traffic_collisions_analysis_NAProcessed_2)\n",
        "nyc_traffic_collisions_analysis_NAProcessed_2 = crash_month_indexer.transform(nyc_traffic_collisions_analysis_NAProcessed_2)\n",
        "crash_month_encoder = OneHotEncoder(inputCol = \"CRASH MONTH INDEX\", outputCol = \"CRASH MONTH VECTOR\")\n",
        "ohe = crash_month_encoder.fit(nyc_traffic_collisions_analysis_NAProcessed_2)\n",
        "nyc_traffic_collisions_analysis_NAProcessed_2 = ohe.transform(nyc_traffic_collisions_analysis_NAProcessed_2)\n",
        "nyc_traffic_collisions_analysis_NAProcessed_2 = nyc_traffic_collisions_analysis_NAProcessed_2.drop(\"CRASH SEASON\")\n",
        "\n",
        "# CONTRIBUTING FACTOR VEHICLE 1\n",
        "cfv1_indexer = StringIndexer(inputCol = \"CONTRIBUTING FACTOR VEHICLE 1\", outputCol = \"CONTRIBUTING FACTOR VEHICLE 1 INDEX\").fit(nyc_traffic_collisions_analysis_NAProcessed_2)\n",
        "nyc_traffic_collisions_analysis_NAProcessed_2 = cfv1_indexer.transform(nyc_traffic_collisions_analysis_NAProcessed_2)\n",
        "cfv1_encoder = OneHotEncoder(inputCol = \"CONTRIBUTING FACTOR VEHICLE 1 INDEX\", outputCol = \"CONTRIBUTING FACTOR VEHICLE 1 VECTOR\")\n",
        "ohe = cfv1_encoder.fit(nyc_traffic_collisions_analysis_NAProcessed_2)\n",
        "nyc_traffic_collisions_analysis_NAProcessed_2 = ohe.transform(nyc_traffic_collisions_analysis_NAProcessed_2)\n",
        "nyc_traffic_collisions_analysis_NAProcessed_2 = nyc_traffic_collisions_analysis_NAProcessed_2.drop(\"CONTRIBUTING FACTOR VEHICLE 1\")\n",
        "\n",
        "# CONTRIBUTING FACTOR VEHICLE 2\n",
        "cfv2_indexer = StringIndexer(inputCol = \"CONTRIBUTING FACTOR VEHICLE 2\", outputCol = \"CONTRIBUTING FACTOR VEHICLE 2 INDEX\").fit(nyc_traffic_collisions_analysis_NAProcessed_2)\n",
        "nyc_traffic_collisions_analysis_NAProcessed_2 = cfv2_indexer.transform(nyc_traffic_collisions_analysis_NAProcessed_2)\n",
        "cfv2_encoder = OneHotEncoder(inputCol = \"CONTRIBUTING FACTOR VEHICLE 2 INDEX\", outputCol = \"CONTRIBUTING FACTOR VEHICLE 2 VECTOR\")\n",
        "ohe = cfv2_encoder.fit(nyc_traffic_collisions_analysis_NAProcessed_2)\n",
        "nyc_traffic_collisions_analysis_NAProcessed_2 = ohe.transform(nyc_traffic_collisions_analysis_NAProcessed_2)\n",
        "nyc_traffic_collisions_analysis_NAProcessed_2 = nyc_traffic_collisions_analysis_NAProcessed_2.drop(\"CONTRIBUTING FACTOR VEHICLE 2\")\n",
        "\n",
        "# VEHICLE TYPE CODE 1\n",
        "vtc1_indexer = StringIndexer(inputCol = \"VEHICLE TYPE CODE 1\", outputCol = \"VEHICLE TYPE CODE 1 INDEX\").fit(nyc_traffic_collisions_analysis_NAProcessed_2)\n",
        "nyc_traffic_collisions_analysis_NAProcessed_2 = vtc1_indexer.transform(nyc_traffic_collisions_analysis_NAProcessed_2)\n",
        "vtc1_encoder = OneHotEncoder(inputCol = \"VEHICLE TYPE CODE 1 INDEX\", outputCol = \"VEHICLE TYPE CODE 1 VECTOR\")\n",
        "ohe = vtc1_encoder.fit(nyc_traffic_collisions_analysis_NAProcessed_2)\n",
        "nyc_traffic_collisions_analysis_NAProcessed_2 = ohe.transform(nyc_traffic_collisions_analysis_NAProcessed_2)\n",
        "nyc_traffic_collisions_analysis_NAProcessed_2 = nyc_traffic_collisions_analysis_NAProcessed_2.drop(\"VEHICLE TYPE CODE 1\")\n",
        "\n",
        "# VEHICLE TYPE CODE 2\n",
        "vtc2_indexer = StringIndexer(inputCol = \"VEHICLE TYPE CODE 2\", outputCol = \"VEHICLE TYPE CODE 2 INDEX\").fit(nyc_traffic_collisions_analysis_NAProcessed_2)\n",
        "nyc_traffic_collisions_analysis_NAProcessed_2 = vtc2_indexer.transform(nyc_traffic_collisions_analysis_NAProcessed_2)\n",
        "vtc2_encoder = OneHotEncoder(inputCol = \"VEHICLE TYPE CODE 2 INDEX\", outputCol = \"VEHICLE TYPE CODE 2 VECTOR\")\n",
        "ohe = vtc2_encoder.fit(nyc_traffic_collisions_analysis_NAProcessed_2)\n",
        "nyc_traffic_collisions_analysis_NAProcessed_2 = ohe.transform(nyc_traffic_collisions_analysis_NAProcessed_2)\n",
        "nyc_traffic_collisions_analysis_NAProcessed_2 = nyc_traffic_collisions_analysis_NAProcessed_2.drop(\"VEHICLE TYPE CODE 2\")\n",
        "\n",
        "# SEVERITY\n",
        "severity_indexer = StringIndexer(inputCol = \"SEVERITY\", outputCol = \"SEVERITY INDEX\").fit(nyc_traffic_collisions_analysis_NAProcessed_2)\n",
        "nyc_traffic_collisions_analysis_NAProcessed_2 = severity_indexer.transform(nyc_traffic_collisions_analysis_NAProcessed_2)\n",
        "severity_encoder = OneHotEncoder(inputCol = \"SEVERITY INDEX\", outputCol = \"SEVERITY VECTOR\")\n",
        "ohe = severity_encoder.fit(nyc_traffic_collisions_analysis_NAProcessed_2)\n",
        "nyc_traffic_collisions_analysis_NAProcessed_2 = ohe.transform(nyc_traffic_collisions_analysis_NAProcessed_2)\n",
        "# nyc_traffic_collisions_analysis_NAProcessed_2 = nyc_traffic_collisions_analysis_NAProcessed_2.drop(\"VEHICLE TYPE CODE 2\")\n",
        "\n",
        "nyc_traffic_collisions_analysis_NAProcessed_2.show(3)"
      ]
    },
    {
      "cell_type": "markdown",
      "source": [
        "<font size=\"5\">**Drop unnecessary columns and assemble them into one vector**</font>"
      ],
      "metadata": {
        "id": "73EIzKJsN0ab"
      }
    },
    {
      "cell_type": "code",
      "execution_count": 19,
      "metadata": {
        "id": "IhEhuQpC44eo"
      },
      "outputs": [],
      "source": [
        "# Extract the needed ones foe later training\n",
        "needed = [\"CRASH HOUR VECTOR\", \"CRASH WEEK VECTOR\", \"CRASH MONTH VECTOR\", \"LATITUDE\", \"LONGITUDE\",\\\n",
        "          \"CONTRIBUTING FACTOR VEHICLE 1 VECTOR\", \"CONTRIBUTING FACTOR VEHICLE 2 VECTOR\", \"VEHICLE TYPE CODE 1 VECTOR\", \"VEHICLE TYPE CODE 2 VECTOR\",\"SEVERITY INDEX\"]\n",
        "nyc_process_data = nyc_traffic_collisions_analysis_NAProcessed_2.select(*needed)\n",
        "# nyc_process_data.show()"
      ]
    },
    {
      "cell_type": "code",
      "execution_count": 20,
      "metadata": {
        "id": "SibRQCLc60Nq",
        "colab": {
          "base_uri": "https://localhost:8080/"
        },
        "outputId": "a4df3928-874e-45b6-9f57-4c8ae6605c41"
      },
      "outputs": [
        {
          "output_type": "stream",
          "name": "stdout",
          "text": [
            "+--------------------+--------------+\n",
            "|            features|SEVERITY INDEX|\n",
            "+--------------------+--------------+\n",
            "|(1115,[4,23,31,40...|           0.0|\n",
            "|(1115,[2,24,31,40...|           0.0|\n",
            "|(1115,[1,25,33,40...|           0.0|\n",
            "|(1115,[21,27,36,4...|           0.0|\n",
            "|(1115,[14,27,36,4...|           0.0|\n",
            "|(1115,[14,23,29,4...|           0.0|\n",
            "|(1115,[6,24,30,40...|           0.0|\n",
            "|(1115,[8,27,37,40...|           0.0|\n",
            "|(1115,[3,25,40,41...|           0.0|\n",
            "|(1115,[1,28,34,40...|           0.0|\n",
            "+--------------------+--------------+\n",
            "only showing top 10 rows\n",
            "\n"
          ]
        }
      ],
      "source": [
        "from pyspark.ml.feature import VectorAssembler\n",
        "from pyspark.sql.functions import udf\n",
        "from pyspark.sql.types import IntegerType\n",
        "nyc_assembler = VectorAssembler(inputCols=[\"CRASH HOUR VECTOR\", \"CRASH WEEK VECTOR\", \"CRASH MONTH VECTOR\", \"LATITUDE\", \"LONGITUDE\",\\\n",
        "          \"CONTRIBUTING FACTOR VEHICLE 1 VECTOR\", \"CONTRIBUTING FACTOR VEHICLE 2 VECTOR\", \"VEHICLE TYPE CODE 1 VECTOR\", \"VEHICLE TYPE CODE 2 VECTOR\"], outputCol=\"features\")\n",
        "nyc_process_data = nyc_assembler.transform(nyc_process_data)\n",
        "\n",
        "nyc_process_data.select(['features','SEVERITY INDEX']).show(10)\n",
        "# # UDF\n",
        "# get_vector_size = udf(lambda vector: len(vector), IntegerType())\n",
        "# nyc_process_data_with_size = nyc_process_data.withColumn(\"feature_size\", get_vector_size(\"features\"))\n",
        "# nyc_process_data_with_size.select(\"feature_size\").show()"
      ]
    },
    {
      "cell_type": "code",
      "execution_count": 21,
      "metadata": {
        "id": "LBYoxMkYA_uX",
        "colab": {
          "base_uri": "https://localhost:8080/"
        },
        "outputId": "66b6a043-9ac8-4f4b-bd37-5f3236f3a975"
      },
      "outputs": [
        {
          "output_type": "stream",
          "name": "stdout",
          "text": [
            "191039\n"
          ]
        }
      ],
      "source": [
        "model_df = nyc_process_data.select(['features', 'SEVERITY INDEX'])\n",
        "train_df, test_df = model_df.randomSplit([0.8, 0.2])\n",
        "print(train_df.count())"
      ]
    },
    {
      "cell_type": "markdown",
      "source": [
        "<font size=\"5\">**Method: Random Forest**</font>\n",
        "* The reason to choose the random forest is that it has a relatively great performance for the multi-class classification job\n",
        "* After trying different hyperparameters, there is only a little difference for the performance. The key of improving performance is to changing the choose of  the valid features."
      ],
      "metadata": {
        "id": "44mXcvq8OcRp"
      }
    },
    {
      "cell_type": "code",
      "execution_count": 23,
      "metadata": {
        "colab": {
          "base_uri": "https://localhost:8080/"
        },
        "id": "Niz0hN8bCN_a",
        "outputId": "254269dc-94e3-4bb2-cea9-3e39bbcbef0f"
      },
      "outputs": [
        {
          "output_type": "stream",
          "name": "stdout",
          "text": [
            "Start Process -- numTrees: 200, maxDepths: 6, impurity: gini\n",
            " Result of numTrees: 200, maxDepths: 6, impurity: gini\n",
            "The accuracy of RF on test data is 77%\n",
            "The precision rate on test data is 82%\n",
            "-------------------------------------------------------------------------\n",
            "Start Process -- numTrees: 200, maxDepths: 6, impurity: entropy\n",
            " Result of numTrees: 200, maxDepths: 6, impurity: entropy\n",
            "The accuracy of RF on test data is 77%\n",
            "The precision rate on test data is 82%\n",
            "-------------------------------------------------------------------------\n"
          ]
        }
      ],
      "source": [
        "from pyspark.ml.classification import RandomForestClassifier\n",
        "from pyspark.ml.evaluation import MulticlassClassificationEvaluator\n",
        "num_Trees = [200]\n",
        "maxDepths = [6]\n",
        "maxBins=[48]\n",
        "impurities = [\"gini\",\"entropy\"]\n",
        "seed=17721487907\n",
        "\n",
        "for num_Tree in num_Trees:\n",
        "  for maxDepth in maxDepths:\n",
        "    for impurity in impurities:\n",
        "      for maxBin in maxBins:\n",
        "        print(f\"Start Process -- numTrees: {num_Tree}, maxDepths: {maxDepth}, impurity: {impurity}\")\n",
        "        rf_classifier = RandomForestClassifier(labelCol='SEVERITY INDEX', maxDepth = maxDepth ,maxBins=maxBin, maxMemoryInMB=512, impurity=impurity, numTrees = num_Tree, seed = seed).fit(train_df)\n",
        "\n",
        "        # Test\n",
        "        rf_prediction = rf_classifier.transform(test_df)\n",
        "        rf_accuracy = MulticlassClassificationEvaluator(labelCol = \"SEVERITY INDEX\", metricName = \"accuracy\").evaluate(rf_prediction)\n",
        "        print(f\" Result of numTrees: {num_Tree}, maxDepths: {maxDepth}, impurity: {impurity}\")\n",
        "        print(\"The accuracy of RF on test data is {0:.0%}\".format(rf_accuracy))\n",
        "\n",
        "        rf_precision = MulticlassClassificationEvaluator(labelCol = \"SEVERITY INDEX\", metricName = \"weightedPrecision\").evaluate(rf_prediction)\n",
        "        print(\"The precision rate on test data is {0:.0%}\".format(rf_precision))\n",
        "        print(\"-------------------------------------------------------------------------\")"
      ]
    },
    {
      "cell_type": "code",
      "source": [
        "# from pyspark.ml.classification import MultilayerPerceptronClassifier\n",
        "# from pyspark.ml.evaluation import MulticlassClassificationEvaluator\n",
        "\n",
        "\n",
        "# # specify layers for the neural network:\n",
        "# # input layer of size 4 (features), two intermediate of size 10 and 9\n",
        "# # and output of size 4 (classes)\n",
        "# layers = [1115,256,64,4]\n",
        "\n",
        "# # create the trainer and set its parameters\n",
        "# trainer = MultilayerPerceptronClassifier(labelCol=\"SEVERITY INDEX\", maxIter=100, layers=layers, blockSize=128, seed=1234)\n",
        "\n",
        "# # train the model\n",
        "# model = trainer.fit(train_df)\n",
        "\n",
        "# # # compute accuracy on the test set\n",
        "# result = model.transform(test_df)\n",
        "\n",
        "# predictionAndLabels = result.select(\"prediction\", \"SEVERITY INDEX\")\n",
        "# evaluator = MulticlassClassificationEvaluator(labelCol = \"SEVERITY INDEX\",metricName=\"accuracy\")\n",
        "# print(\"Test set accuracy = \" + str(evaluator.evaluate(predictionAndLabels)))"
      ],
      "metadata": {
        "id": "lBU9u3ppL0BS"
      },
      "execution_count": null,
      "outputs": []
    },
    {
      "cell_type": "code",
      "source": [
        "# from pyspark.ml.classification import GBTClassifier\n",
        "# gbt_classifier = GBTClassifier(featuresCol='features',labelCol='SEVERITY INDEX', seed = seed).fit(train_df)\n",
        "\n",
        "# gbt_prediction = gbt_classifier.transform(test_df)\n",
        "# gbt_accuracy = MulticlassClassificationEvaluator(labelCol = \"SEVERITY INDEX\", metricName = \"accuracy\").evaluate(gbt_prediction)\n",
        "# print(\"The accuracy of RF on test data is {0:.0%}\".format(rf_accuracy))\n",
        "\n",
        "# gbt_precision = MulticlassClassificationEvaluator(labelCol = \"SEVERITY INDEX\", metricName = \"weightedPrecision\").evaluate(gbt_prediction)\n",
        "# print(\"The precision rate on test data is {0:.0%}\".format(rf_precision))\n",
        "# print(\"-------------------------------------------------------------------------\")"
      ],
      "metadata": {
        "id": "G1gtEHn8Jd-l"
      },
      "execution_count": null,
      "outputs": []
    },
    {
      "cell_type": "code",
      "execution_count": null,
      "metadata": {
        "id": "ow0W18QD7n6F"
      },
      "outputs": [],
      "source": [
        "# from pyspark.ml.evaluation import MulticlassClassificationEvaluator\n",
        "\n",
        "# rf_prediction = rf_classifier.transform(test_df)\n",
        "# rf_accuracy = MulticlassClassificationEvaluator(labelCol = \"SEVERITY INDEX\", metricName = \"accuracy\").evaluate(rf_prediction)\n",
        "# print(\"The accuracy of RF on test data is {0:.0%}\".format(rf_accuracy))\n",
        "\n",
        "# rf_precision = MulticlassClassificationEvaluator(labelCol = \"SEVERITY INDEX\", metricName = \"weightedPrecision\").evaluate(rf_prediction)\n",
        "# print(\"The precision rate on test data is {0:.0%}\".format(rf_precision))"
      ]
    }
  ],
  "metadata": {
    "colab": {
      "provenance": []
    },
    "kernelspec": {
      "display_name": "Python 3",
      "name": "python3"
    },
    "language_info": {
      "name": "python"
    }
  },
  "nbformat": 4,
  "nbformat_minor": 0
}